{
 "cells": [
  {
   "cell_type": "markdown",
   "metadata": {},
   "source": [
    "***The Double Fourier Sphere Method***\n",
    "\n",
    "In this notebook, I will be experimenting with this method, seeing how I can build it directly into a truncated Vandermonde matrix."
   ]
  },
  {
   "cell_type": "markdown",
   "metadata": {},
   "source": [
    "**Some dummy data**"
   ]
  },
  {
   "cell_type": "code",
   "execution_count": null,
   "metadata": {},
   "outputs": [],
   "source": [
    "import numpy as np\n",
    "import matplotlib.pyplot as plt"
   ]
  }
 ],
 "metadata": {
  "language_info": {
   "name": "python"
  },
  "orig_nbformat": 4
 },
 "nbformat": 4,
 "nbformat_minor": 2
}
